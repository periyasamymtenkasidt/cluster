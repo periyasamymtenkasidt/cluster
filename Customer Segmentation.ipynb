{
 "cells": [
  {
   "cell_type": "code",
   "execution_count": 27,
   "id": "8e8b2332",
   "metadata": {},
   "outputs": [],
   "source": [
    "import pandas as pd\n",
    "from sklearn.model_selection import train_test_split\n",
    "from sklearn.preprocessing import StandardScaler, LabelEncoder\n",
    "from sklearn.linear_model import LogisticRegression\n",
    "from sklearn.tree import DecisionTreeClassifier\n",
    "from sklearn.ensemble import RandomForestClassifier, GradientBoostingClassifier\n",
    "from sklearn.svm import SVC\n",
    "from sklearn.neighbors import KNeighborsClassifier\n",
    "from sklearn.metrics import classification_report, accuracy_score, confusion_matrix\n",
    "import matplotlib.pyplot as plt\n",
    "import seaborn as sns"
   ]
  },
  {
   "cell_type": "code",
   "execution_count": 28,
   "id": "b06e56fb",
   "metadata": {},
   "outputs": [],
   "source": [
    "# Load the dataset\n",
    "data = pd.read_csv('Customer.csv')  "
   ]
  },
  {
   "cell_type": "code",
   "execution_count": 29,
   "id": "4235c9a6",
   "metadata": {},
   "outputs": [
    {
     "name": "stdout",
     "output_type": "stream",
     "text": [
      "   CustomerID   Age  Annual Income (k$)  Spending Score (1-100)    Segment\n",
      "0           1  44.0                74.0                    29.0  Segment_A\n",
      "1           2  28.0                46.0                    50.0  Segment_B\n",
      "2           3  33.0                97.0                    59.0  Segment_A\n",
      "3           4  35.0                 NaN                    87.0  Segment_A\n",
      "4           5   NaN                59.0                    44.0  Segment_C\n",
      "<class 'pandas.core.frame.DataFrame'>\n",
      "RangeIndex: 194 entries, 0 to 193\n",
      "Data columns (total 5 columns):\n",
      " #   Column                  Non-Null Count  Dtype  \n",
      "---  ------                  --------------  -----  \n",
      " 0   CustomerID              194 non-null    int64  \n",
      " 1   Age                     158 non-null    float64\n",
      " 2   Annual Income (k$)      174 non-null    float64\n",
      " 3   Spending Score (1-100)  172 non-null    float64\n",
      " 4   Segment                 194 non-null    object \n",
      "dtypes: float64(3), int64(1), object(1)\n",
      "memory usage: 7.7+ KB\n",
      "None\n"
     ]
    }
   ],
   "source": [
    "# Inspect the dataset\n",
    "print(data.head())\n",
    "print(data.info())"
   ]
  },
  {
   "cell_type": "code",
   "execution_count": 30,
   "id": "2e9073c6",
   "metadata": {},
   "outputs": [
    {
     "name": "stdout",
     "output_type": "stream",
     "text": [
      "check for missing values\n",
      "CustomerID                 0\n",
      "Age                       36\n",
      "Annual Income (k$)        20\n",
      "Spending Score (1-100)    22\n",
      "Segment                    0\n",
      "dtype: int64\n"
     ]
    }
   ],
   "source": [
    "# Check for missing values\n",
    "\n",
    "print(\"check for missing values\")\n",
    "print(data.isnull().sum())"
   ]
  },
  {
   "cell_type": "code",
   "execution_count": 31,
   "id": "3862d527",
   "metadata": {},
   "outputs": [],
   "source": [
    "# Optionally fill missing values\n",
    "data.fillna(method='ffill', inplace=True)"
   ]
  },
  {
   "cell_type": "code",
   "execution_count": 32,
   "id": "b0cfc94f",
   "metadata": {},
   "outputs": [
    {
     "name": "stdout",
     "output_type": "stream",
     "text": [
      "check after replacing a missing values\n",
      "CustomerID                0\n",
      "Age                       0\n",
      "Annual Income (k$)        0\n",
      "Spending Score (1-100)    0\n",
      "Segment                   0\n",
      "dtype: int64\n"
     ]
    }
   ],
   "source": [
    "print(\"check after replacing a missing values\")\n",
    "print(data.isnull().sum())"
   ]
  },
  {
   "cell_type": "code",
   "execution_count": 33,
   "id": "5805a9fa",
   "metadata": {},
   "outputs": [
    {
     "name": "stdout",
     "output_type": "stream",
     "text": [
      "Features \n",
      "       Age  Annual Income (k$)  Spending Score (1-100)\n",
      "0    44.0                74.0                    29.0\n",
      "1    28.0                46.0                    50.0\n",
      "2    33.0                97.0                    59.0\n",
      "3    35.0                97.0                    87.0\n",
      "4    35.0                59.0                    44.0\n",
      "..    ...                 ...                     ...\n",
      "189  33.0                82.0                    56.0\n",
      "190  29.0                90.0                    60.0\n",
      "191  44.0                74.0                    53.0\n",
      "192  44.0                80.0                    69.0\n",
      "193  37.0                66.0                    48.0\n",
      "\n",
      "[194 rows x 3 columns]\n",
      "Target \n",
      " 0      Segment_A\n",
      "1      Segment_B\n",
      "2      Segment_A\n",
      "3      Segment_A\n",
      "4      Segment_C\n",
      "         ...    \n",
      "189    Segment_B\n",
      "190    Segment_C\n",
      "191    Segment_A\n",
      "192    Segment_B\n",
      "193    Segment_C\n",
      "Name: Segment, Length: 194, dtype: object\n"
     ]
    }
   ],
   "source": [
    "# Select features and target\n",
    "features = data[['Age', 'Annual Income (k$)', 'Spending Score (1-100)']]\n",
    "target = data['Segment'] \n",
    "# Replace with actual target column\n",
    "print(\"Features \\n\",features)\n",
    "print(\"Target \\n\",target)"
   ]
  },
  {
   "cell_type": "code",
   "execution_count": 43,
   "id": "ba40a112",
   "metadata": {},
   "outputs": [
    {
     "data": {
      "text/plain": [
       "array([0, 1, 0, 0, 2, 1, 0, 2, 1, 0, 2, 1, 0, 0, 1, 2, 0, 1, 2, 1, 0, 1,\n",
       "       2, 0, 1, 0, 2, 1, 2, 0, 1, 2, 0, 1, 2, 0, 1, 2, 0, 1, 2, 1, 2, 0,\n",
       "       1, 2, 0, 1, 2, 1, 0, 1, 2, 0, 1, 2, 0, 1, 2, 0, 1, 2, 0, 1, 2, 0,\n",
       "       1, 2, 0, 1, 2, 0, 1, 2, 0, 1, 2, 0, 1, 2, 0, 1, 2, 0, 1, 2, 0, 1,\n",
       "       2, 0, 1, 2, 0, 1, 2, 0, 1, 2, 0, 1, 2, 0, 1, 2, 0, 1, 2, 0, 1, 2,\n",
       "       0, 1, 2, 0, 1, 2, 0, 1, 2, 0, 1, 2, 0, 1, 2, 0, 1, 2, 0, 1, 2, 0,\n",
       "       1, 2, 0, 1, 2, 0, 1, 2, 0, 1, 2, 0, 1, 2, 0, 1, 2, 0, 1, 2, 0, 1,\n",
       "       2, 0, 1, 2, 0, 1, 2, 0, 1, 2, 0, 1, 2, 0, 1, 2, 0, 1, 2, 0, 1, 2,\n",
       "       0, 1, 2, 0, 1, 2, 0, 1, 2, 0, 1, 2, 0, 1, 2, 0, 1, 2])"
      ]
     },
     "execution_count": 43,
     "metadata": {},
     "output_type": "execute_result"
    }
   ],
   "source": [
    "# Encode target variable\n",
    "label_encoder = LabelEncoder()\n",
    "target_encoded = label_encoder.fit_transform(target)\n",
    "\n",
    "#useful for converting categorical labels into numeric values\n",
    "#fit(): Learns the unique classes and assigns an integer to each class.\n",
    "#transform(): Converts the original target variable into the integer values based on the learned mapping.\n",
    "target_encoded\n",
    "    "
   ]
  },
  {
   "cell_type": "code",
   "execution_count": 45,
   "id": "7e92fe8f",
   "metadata": {},
   "outputs": [],
   "source": [
    "# Standardize features\n",
    "scaler = StandardScaler()\n",
    "features_scaled = scaler.fit_transform(features)\n",
    "#Standardizing features scales them to a common range,\n",
    "#ensuring each feature contributes equally to the model's performance. This improves accuracy and speeds "
   ]
  },
  {
   "cell_type": "code",
   "execution_count": 36,
   "id": "35e16589",
   "metadata": {},
   "outputs": [],
   "source": [
    "# Split the data into training and testing sets\n",
    "X_train, X_test, y_train, y_test = train_test_split(features_scaled, target_encoded, test_size=0.2, random_state=0)"
   ]
  },
  {
   "cell_type": "code",
   "execution_count": 37,
   "id": "0b3766eb",
   "metadata": {},
   "outputs": [],
   "source": [
    "# Initialize models\n",
    "models = {\n",
    "    'Logistic Regression': LogisticRegression(),\n",
    "    'Decision Tree': DecisionTreeClassifier(),\n",
    "    'Random Forest': RandomForestClassifier(n_estimators=100, random_state=0),\n",
    "    'Support Vector Classifier': SVC(),\n",
    "    'K-Nearest Neighbors': KNeighborsClassifier(),\n",
    "    'Gradient Boosting': GradientBoostingClassifier()\n",
    "}\n"
   ]
  },
  {
   "cell_type": "code",
   "execution_count": 38,
   "id": "22a0dfdf",
   "metadata": {},
   "outputs": [
    {
     "name": "stdout",
     "output_type": "stream",
     "text": [
      "\n",
      "Logistic Regression Accuracy: 0.3076923076923077\n",
      "Logistic Regression Classification Report:\n",
      "              precision    recall  f1-score   support\n",
      "\n",
      "   Segment_A       0.38      0.19      0.25        16\n",
      "   Segment_B       0.20      0.57      0.30         7\n",
      "   Segment_C       0.45      0.31      0.37        16\n",
      "\n",
      "    accuracy                           0.31        39\n",
      "   macro avg       0.34      0.36      0.31        39\n",
      "weighted avg       0.38      0.31      0.31        39\n",
      "\n",
      "\n",
      "Decision Tree Accuracy: 0.3076923076923077\n",
      "Decision Tree Classification Report:\n",
      "              precision    recall  f1-score   support\n",
      "\n",
      "   Segment_A       0.44      0.44      0.44        16\n",
      "   Segment_B       0.21      0.43      0.29         7\n",
      "   Segment_C       0.22      0.12      0.16        16\n",
      "\n",
      "    accuracy                           0.31        39\n",
      "   macro avg       0.29      0.33      0.29        39\n",
      "weighted avg       0.31      0.31      0.30        39\n",
      "\n",
      "\n",
      "Random Forest Accuracy: 0.2564102564102564\n",
      "Random Forest Classification Report:\n",
      "              precision    recall  f1-score   support\n",
      "\n",
      "   Segment_A       0.42      0.31      0.36        16\n",
      "   Segment_B       0.13      0.29      0.18         7\n",
      "   Segment_C       0.25      0.19      0.21        16\n",
      "\n",
      "    accuracy                           0.26        39\n",
      "   macro avg       0.27      0.26      0.25        39\n",
      "weighted avg       0.30      0.26      0.27        39\n",
      "\n",
      "\n",
      "Support Vector Classifier Accuracy: 0.2564102564102564\n",
      "Support Vector Classifier Classification Report:\n",
      "              precision    recall  f1-score   support\n",
      "\n",
      "   Segment_A       0.25      0.06      0.10        16\n",
      "   Segment_B       0.21      0.57      0.31         7\n",
      "   Segment_C       0.31      0.31      0.31        16\n",
      "\n",
      "    accuracy                           0.26        39\n",
      "   macro avg       0.26      0.32      0.24        39\n",
      "weighted avg       0.27      0.26      0.22        39\n",
      "\n",
      "\n",
      "K-Nearest Neighbors Accuracy: 0.23076923076923078\n",
      "K-Nearest Neighbors Classification Report:\n",
      "              precision    recall  f1-score   support\n",
      "\n",
      "   Segment_A       0.40      0.38      0.39        16\n",
      "   Segment_B       0.07      0.14      0.10         7\n",
      "   Segment_C       0.20      0.12      0.15        16\n",
      "\n",
      "    accuracy                           0.23        39\n",
      "   macro avg       0.22      0.21      0.21        39\n",
      "weighted avg       0.26      0.23      0.24        39\n",
      "\n"
     ]
    },
    {
     "name": "stderr",
     "output_type": "stream",
     "text": [
      "C:\\Users\\Lenovo\\anaconda3\\lib\\site-packages\\sklearn\\neighbors\\_classification.py:228: FutureWarning: Unlike other reduction functions (e.g. `skew`, `kurtosis`), the default behavior of `mode` typically preserves the axis it acts along. In SciPy 1.11.0, this behavior will change: the default value of `keepdims` will become False, the `axis` over which the statistic is taken will be eliminated, and the value None will no longer be accepted. Set `keepdims` to True or False to avoid this warning.\n",
      "  mode, _ = stats.mode(_y[neigh_ind, k], axis=1)\n"
     ]
    },
    {
     "name": "stdout",
     "output_type": "stream",
     "text": [
      "\n",
      "Gradient Boosting Accuracy: 0.23076923076923078\n",
      "Gradient Boosting Classification Report:\n",
      "              precision    recall  f1-score   support\n",
      "\n",
      "   Segment_A       0.33      0.19      0.24        16\n",
      "   Segment_B       0.11      0.29      0.16         7\n",
      "   Segment_C       0.33      0.25      0.29        16\n",
      "\n",
      "    accuracy                           0.23        39\n",
      "   macro avg       0.26      0.24      0.23        39\n",
      "weighted avg       0.29      0.23      0.24        39\n",
      "\n"
     ]
    }
   ],
   "source": [
    "# Train and evaluate models\n",
    "results = {}\n",
    "for name, model in models.items():\n",
    "    # Train the model\n",
    "    model.fit(X_train, y_train)\n",
    "    \n",
    "    # Make predictions\n",
    "    y_pred = model.predict(X_test)\n",
    "    \n",
    "    # Evaluate the model\n",
    "    accuracy = accuracy_score(y_test, y_pred)\n",
    "    results[name] = {\n",
    "        'accuracy': accuracy,\n",
    "        'report': classification_report(y_test, y_pred, target_names=label_encoder.classes_),\n",
    "        'confusion_matrix': confusion_matrix(y_test, y_pred)\n",
    "    }\n",
    "\n",
    "    # Print performance metrics\n",
    "    print(f\"\\n{name} Accuracy: {accuracy}\")\n",
    "    print(f\"{name} Classification Report:\\n{results[name]['report']}\")\n",
    "    "
   ]
  },
  {
   "cell_type": "code",
   "execution_count": 39,
   "id": "f2a58366",
   "metadata": {},
   "outputs": [
    {
     "name": "stdout",
     "output_type": "stream",
     "text": [
      "\n",
      "New Customer Predictions:\n",
      "    Age  Annual Income (k$)  Spending Score (1-100)  \\\n",
      "0   25                  50                      60   \n",
      "1   40                  80                      30   \n",
      "\n",
      "  Logistic Regression PredictedSegment Decision Tree PredictedSegment  \\\n",
      "0                            Segment_B                      Segment_C   \n",
      "1                            Segment_A                      Segment_A   \n",
      "\n",
      "  Random Forest PredictedSegment Support Vector Classifier PredictedSegment  \\\n",
      "0                      Segment_B                                  Segment_B   \n",
      "1                      Segment_A                                  Segment_A   \n",
      "\n",
      "  K-Nearest Neighbors PredictedSegment Gradient Boosting PredictedSegment  \n",
      "0                            Segment_A                          Segment_C  \n",
      "1                            Segment_A                          Segment_A  \n"
     ]
    },
    {
     "name": "stderr",
     "output_type": "stream",
     "text": [
      "C:\\Users\\Lenovo\\anaconda3\\lib\\site-packages\\sklearn\\neighbors\\_classification.py:228: FutureWarning: Unlike other reduction functions (e.g. `skew`, `kurtosis`), the default behavior of `mode` typically preserves the axis it acts along. In SciPy 1.11.0, this behavior will change: the default value of `keepdims` will become False, the `axis` over which the statistic is taken will be eliminated, and the value None will no longer be accepted. Set `keepdims` to True or False to avoid this warning.\n",
      "  mode, _ = stats.mode(_y[neigh_ind, k], axis=1)\n"
     ]
    }
   ],
   "source": [
    "# Example new customer data\n",
    "new_customers = pd.DataFrame({\n",
    "    'Age': [25, 40],\n",
    "    'Annual Income (k$)': [50, 80],  # Ensure to use the same column names as in the dataset\n",
    "    'Spending Score (1-100)': [60, 30]\n",
    "})\n",
    "\n",
    "# Standardize new customer data\n",
    "new_customers_scaled = scaler.transform(new_customers)\n",
    "\n",
    "# Predict segments for new customer data with each model\n",
    "for name, model in models.items():\n",
    "    predicted_segments = model.predict(new_customers_scaled)\n",
    "    new_customers[f'{name} PredictedSegment'] = label_encoder.inverse_transform(predicted_segments)\n",
    "\n",
    "print(\"\\nNew Customer Predictions:\\n\", new_customers)"
   ]
  },
  {
   "cell_type": "code",
   "execution_count": 42,
   "id": "32a8799f",
   "metadata": {},
   "outputs": [
    {
     "data": {
      "image/png": "[encoded data removed]",
      "text/plain": [
       "<Figure size 1000x600 with 1 Axes>"
      ]
     },
     "metadata": {},
     "output_type": "display_data"
    }
   ],
   "source": [
    "# Plot confusion matrices and feature importances\n",
    "for name, model in models.items():\n",
    "    cm = results[name]['confusion_matrix']\n",
    "\n",
    "# Extract model names and their corresponding accuracies\n",
    "model_names = list(results.keys())\n",
    "accuracies = [results[name]['accuracy'] for name in model_names]\n",
    "\n",
    "# Create a bar plot for model accuracies\n",
    "plt.figure(figsize=(10, 6))\n",
    "plt.barh(model_names, accuracies, color='skyblue')\n",
    "plt.xlabel('Accuracy')\n",
    "plt.title('Model Accuracy Comparison')\n",
    "plt.xlim(0, 1)  # Accuracy is between 0 and 1\n",
    "plt.grid(axis='x', linestyle='--', alpha=0.7)\n",
    "\n",
    "# Display the plot\n",
    "plt.show()"
   ]
  },
  {
   "cell_type": "code",
   "execution_count": null,
   "id": "9cfe0252",
   "metadata": {},
   "outputs": [],
   "source": []
  },
  {
   "cell_type": "code",
   "execution_count": null,
   "id": "aeadcb09",
   "metadata": {},
   "outputs": [],
   "source": []
  },
  {
   "cell_type": "code",
   "execution_count": null,
   "id": "750f06ef",
   "metadata": {},
   "outputs": [],
   "source": []
  }
 ],
 "metadata": {
  "kernelspec": {
   "display_name": "Python 3 (ipykernel)",
   "language": "python",
   "name": "python3"
  },
  "language_info": {
   "codemirror_mode": {
    "name": "ipython",
    "version": 3
   },
   "file_extension": ".py",
   "mimetype": "text/x-python",
   "name": "python",
   "nbconvert_exporter": "python",
   "pygments_lexer": "ipython3",
   "version": "3.9.13"
  }
 },
 "nbformat": 4,
 "nbformat_minor": 5
}
